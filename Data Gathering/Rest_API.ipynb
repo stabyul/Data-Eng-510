{
  "nbformat": 4,
  "nbformat_minor": 0,
  "metadata": {
    "colab": {
      "provenance": []
    },
    "kernelspec": {
      "name": "python3",
      "display_name": "Python 3"
    },
    "language_info": {
      "name": "python"
    }
  },
  "cells": [
    {
      "cell_type": "code",
      "source": [
        "# import required modules\n",
        "import requests, json\n",
        "\n",
        "\n",
        "\n",
        "# Enter your API key here\n",
        "api_key = \"0c0ce1b7a89ca8859635fdeed53032a5\"\n",
        "\n",
        "# base_url variable to store url\n",
        "base_url = \"http://api.openweathermap.org/data/2.5/weather?\"\n",
        "\n",
        "# Give city name\n",
        "city_name = input(\"Enter city name : \")\n",
        "\n",
        "# complete_url variable to store\n",
        "# complete url address\n",
        "complete_url = base_url + \"appid=\" + api_key + \"&q=\" + city_name\n",
        "\n",
        "# get method of requests module\n",
        "# return response object\n",
        "response = requests.get(complete_url)\n",
        "\n",
        "# json method of response object\n",
        "# convert json format data into\n",
        "# python format data\n",
        "x = response.json()\n",
        "# print(x)\n",
        "\n",
        "\n",
        "# Now x contains list of nested dictionaries\n",
        "# Check the value of \"cod\" key is equal to\n",
        "# \"404\", means city is found otherwise,\n",
        "# city is not found\n",
        "if x[\"cod\"] != \"404\":\n",
        "\n",
        "\t# store the value of \"main\"\n",
        "\t# key in variable y\n",
        "\ty = x[\"main\"]\n",
        "\n",
        "\t# store the value corresponding\n",
        "\t# to the \"temp\" key of y\n",
        "\tcurrent_temperature = y[\"temp\"]\n",
        "\n",
        "\t# store the value corresponding\n",
        "\n",
        "\t# to the \"pressure\" key of y\n",
        "\tcurrent_pressure = y[\"pressure\"]\n",
        "\n",
        "\t# store the value corresponding\n",
        "\t# to the \"humidity\" key of y\n",
        "\tcurrent_humidity = y[\"humidity\"]\n",
        "\n",
        "\t# store the value of \"weather\"\n",
        "\t# key in variable z\n",
        "\tz = x[\"weather\"]\n",
        "\n",
        "\t# store the value corresponding\n",
        "\t# to the \"description\" key at\n",
        "\t# the 0th index of z\n",
        "\tweather_description = z[0][\"description\"]\n",
        "\n",
        "\t# print following values\n",
        "\tprint(\" Temperature (in kelvin unit) = \" +\n",
        "\t\t\t\t\tstr(current_temperature) +\n",
        "\t\t\"\\n atmospheric pressure (in hPa unit) = \" +\n",
        "\t\t\t\t\tstr(current_pressure) +\n",
        "\t\t\"\\n humidity (in percentage) = \" +\n",
        "\t\t\t\t\tstr(current_humidity) +\n",
        "\t\t\"\\n description = \" +\n",
        "\t\t\t\t\tstr(weather_description))\n",
        " #check if it is raining\n",
        "\n",
        "else:\n",
        "\tprint(\" City Not Found \")\n",
        "\n",
        "\n",
        "\n",
        "\n"
      ],
      "metadata": {
        "colab": {
          "base_uri": "https://localhost:8080/"
        },
        "id": "MFX9JME-iuIn",
        "outputId": "f931109a-36fb-4f30-9c12-089baf385a21"
      },
      "execution_count": 2,
      "outputs": [
        {
          "output_type": "stream",
          "name": "stdout",
          "text": [
            "Enter city name : portland\n",
            " Temperature (in kelvin unit) = 283.28\n",
            " atmospheric pressure (in hPa unit) = 1023\n",
            " humidity (in percentage) = 68\n",
            " description = overcast clouds\n"
          ]
        }
      ]
    },
    {
      "cell_type": "code",
      "source": [
        "# import required modules\n",
        "import requests, json\n",
        "\n",
        "\n",
        "\n",
        "# Enter your API key here\n",
        "api_key = \"0c0ce1b7a89ca8859635fdeed53032a5\"\n",
        "\n",
        "# base_url variable to store url\n",
        "base_url = \"http://api.openweathermap.org/data/2.5/forecast?\"\n",
        "\n",
        "# Give city name\n",
        "city_name = input(\"Enter city name : \")\n",
        "\n",
        "# complete_url variable to store\n",
        "# complete url address\n",
        "complete_url = base_url + \"appid=\" + api_key + \"&q=\" + city_name\n",
        "\n",
        "# get method of requests module\n",
        "# return response object\n",
        "response = requests.get(complete_url)\n",
        "\n",
        "# json method of response object\n",
        "# convert json format data into\n",
        "# python format data\n",
        "x = response.json()\n",
        "\n",
        "for i in range(0,20,2):\n",
        "    print('date/time '+x['list'][i]['dt_txt']+ ' \\n main : '+x['list'][i]['weather'][0]['main'] +' \\n '+'description : '+x['list'][i]['weather'][0]['description'])\n",
        "\n"
      ],
      "metadata": {
        "colab": {
          "base_uri": "https://localhost:8080/"
        },
        "id": "_I8dl9-aJm0Q",
        "outputId": "d3dbf49c-d896-4d5c-ad36-895fa9868bf6"
      },
      "execution_count": 3,
      "outputs": [
        {
          "output_type": "stream",
          "name": "stdout",
          "text": [
            "Enter city name : portland\n",
            "date/time 2025-04-12 06:00:00 \n",
            " main : Clouds \n",
            " description : broken clouds\n",
            "date/time 2025-04-12 12:00:00 \n",
            " main : Clouds \n",
            " description : broken clouds\n",
            "date/time 2025-04-12 18:00:00 \n",
            " main : Clouds \n",
            " description : broken clouds\n",
            "date/time 2025-04-13 00:00:00 \n",
            " main : Clouds \n",
            " description : overcast clouds\n",
            "date/time 2025-04-13 06:00:00 \n",
            " main : Clouds \n",
            " description : scattered clouds\n",
            "date/time 2025-04-13 12:00:00 \n",
            " main : Clear \n",
            " description : clear sky\n",
            "date/time 2025-04-13 18:00:00 \n",
            " main : Clouds \n",
            " description : scattered clouds\n",
            "date/time 2025-04-14 00:00:00 \n",
            " main : Clouds \n",
            " description : scattered clouds\n",
            "date/time 2025-04-14 06:00:00 \n",
            " main : Clouds \n",
            " description : overcast clouds\n",
            "date/time 2025-04-14 12:00:00 \n",
            " main : Clouds \n",
            " description : overcast clouds\n"
          ]
        }
      ]
    }
  ]
}